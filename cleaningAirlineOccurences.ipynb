{
 "cells": [
  {
   "cell_type": "code",
   "execution_count": 2,
   "metadata": {},
   "outputs": [],
   "source": [
    "import pandas as pd\n",
    "import numpy as np\n",
    "import seaborn as sns\n",
    "import matplotlib as plt"
   ]
  },
  {
   "cell_type": "code",
   "execution_count": 4,
   "metadata": {},
   "outputs": [
    {
     "data": {
      "text/html": [
       "<div>\n",
       "<style scoped>\n",
       "    .dataframe tbody tr th:only-of-type {\n",
       "        vertical-align: middle;\n",
       "    }\n",
       "\n",
       "    .dataframe tbody tr th {\n",
       "        vertical-align: top;\n",
       "    }\n",
       "\n",
       "    .dataframe thead th {\n",
       "        text-align: right;\n",
       "    }\n",
       "</style>\n",
       "<table border=\"1\" class=\"dataframe\">\n",
       "  <thead>\n",
       "    <tr style=\"text-align: right;\">\n",
       "      <th></th>\n",
       "      <th>Report</th>\n",
       "      <th>Part Failure</th>\n",
       "      <th>Occurence Nature condition</th>\n",
       "      <th>Occurence Precautionary Procedures</th>\n",
       "    </tr>\n",
       "  </thead>\n",
       "  <tbody>\n",
       "    <tr>\n",
       "      <th>0</th>\n",
       "      <td>MECHANICAL / LANDING GEAR GND FAIL MSG AFTER T...</td>\n",
       "      <td>RT MLG BRAKE DAMAGED</td>\n",
       "      <td>WARNING INDICATION</td>\n",
       "      <td>OTHER</td>\n",
       "    </tr>\n",
       "    <tr>\n",
       "      <th>1</th>\n",
       "      <td>THE NOSE LANDING GEAR DID NOT EXTEND FULLY DUR...</td>\n",
       "      <td>ZONE 700 MALFUNCTIONED</td>\n",
       "      <td>WARNING INDICATION</td>\n",
       "      <td>ABORTED APPROACH</td>\n",
       "    </tr>\n",
       "    <tr>\n",
       "      <th>2</th>\n",
       "      <td>THE LEFT SIDE HYDRAULIC SYSTEM FILTER BOWL ASS...</td>\n",
       "      <td>HYD FILTER FAILED</td>\n",
       "      <td>OTHER</td>\n",
       "      <td>ABORTED APPROACH</td>\n",
       "    </tr>\n",
       "    <tr>\n",
       "      <th>3</th>\n",
       "      <td>AIRCRAFT WAS ON ROLLOUT DURING A NORMAL LANDIN...</td>\n",
       "      <td>LEFT COLLAPSED</td>\n",
       "      <td>OTHER</td>\n",
       "      <td>OTHER</td>\n",
       "    </tr>\n",
       "    <tr>\n",
       "      <th>4</th>\n",
       "      <td>UPON TAKEOFF ROLL BUT PRIOR TO REACHING 80 KNO...</td>\n",
       "      <td>ZONE 600 CRACKED</td>\n",
       "      <td>WARNING INDICATION</td>\n",
       "      <td>ABORTED TAKEOFF</td>\n",
       "    </tr>\n",
       "  </tbody>\n",
       "</table>\n",
       "</div>"
      ],
      "text/plain": [
       "                                              Report  \\\n",
       "0  MECHANICAL / LANDING GEAR GND FAIL MSG AFTER T...   \n",
       "1  THE NOSE LANDING GEAR DID NOT EXTEND FULLY DUR...   \n",
       "2  THE LEFT SIDE HYDRAULIC SYSTEM FILTER BOWL ASS...   \n",
       "3  AIRCRAFT WAS ON ROLLOUT DURING A NORMAL LANDIN...   \n",
       "4  UPON TAKEOFF ROLL BUT PRIOR TO REACHING 80 KNO...   \n",
       "\n",
       "                    Part Failure  Occurence Nature condition  \\\n",
       "0  RT MLG BRAKE DAMAGED           WARNING INDICATION           \n",
       "1      ZONE 700 MALFUNCTIONED     WARNING INDICATION           \n",
       "2    HYD FILTER FAILED            OTHER                        \n",
       "3          LEFT COLLAPSED         OTHER                        \n",
       "4      ZONE 600 CRACKED           WARNING INDICATION           \n",
       "\n",
       "  Occurence Precautionary Procedures  \n",
       "0           OTHER                     \n",
       "1           ABORTED APPROACH          \n",
       "2           ABORTED APPROACH          \n",
       "3           OTHER                     \n",
       "4           ABORTED TAKEOFF           "
      ]
     },
     "execution_count": 4,
     "metadata": {},
     "output_type": "execute_result"
    }
   ],
   "source": [
    "df = pd.read_csv(\"AirlineOccurences.csv\")\n",
    "df.head()"
   ]
  },
  {
   "cell_type": "code",
   "execution_count": 10,
   "metadata": {},
   "outputs": [
    {
     "data": {
      "text/html": [
       "<div>\n",
       "<style scoped>\n",
       "    .dataframe tbody tr th:only-of-type {\n",
       "        vertical-align: middle;\n",
       "    }\n",
       "\n",
       "    .dataframe tbody tr th {\n",
       "        vertical-align: top;\n",
       "    }\n",
       "\n",
       "    .dataframe thead th {\n",
       "        text-align: right;\n",
       "    }\n",
       "</style>\n",
       "<table border=\"1\" class=\"dataframe\">\n",
       "  <thead>\n",
       "    <tr style=\"text-align: right;\">\n",
       "      <th></th>\n",
       "      <th>report</th>\n",
       "      <th>part_failure</th>\n",
       "      <th>occurence_nature_condition</th>\n",
       "      <th>occurence_precautionary_procedures</th>\n",
       "    </tr>\n",
       "  </thead>\n",
       "  <tbody>\n",
       "    <tr>\n",
       "      <th>0</th>\n",
       "      <td>MECHANICAL / LANDING GEAR GND FAIL MSG AFTER T...</td>\n",
       "      <td>RT MLG BRAKE DAMAGED</td>\n",
       "      <td>WARNING INDICATION</td>\n",
       "      <td>OTHER</td>\n",
       "    </tr>\n",
       "    <tr>\n",
       "      <th>1</th>\n",
       "      <td>THE NOSE LANDING GEAR DID NOT EXTEND FULLY DUR...</td>\n",
       "      <td>ZONE 700 MALFUNCTIONED</td>\n",
       "      <td>WARNING INDICATION</td>\n",
       "      <td>ABORTED APPROACH</td>\n",
       "    </tr>\n",
       "    <tr>\n",
       "      <th>2</th>\n",
       "      <td>THE LEFT SIDE HYDRAULIC SYSTEM FILTER BOWL ASS...</td>\n",
       "      <td>HYD FILTER FAILED</td>\n",
       "      <td>OTHER</td>\n",
       "      <td>ABORTED APPROACH</td>\n",
       "    </tr>\n",
       "    <tr>\n",
       "      <th>3</th>\n",
       "      <td>AIRCRAFT WAS ON ROLLOUT DURING A NORMAL LANDIN...</td>\n",
       "      <td>LEFT COLLAPSED</td>\n",
       "      <td>OTHER</td>\n",
       "      <td>OTHER</td>\n",
       "    </tr>\n",
       "    <tr>\n",
       "      <th>4</th>\n",
       "      <td>UPON TAKEOFF ROLL BUT PRIOR TO REACHING 80 KNO...</td>\n",
       "      <td>ZONE 600 CRACKED</td>\n",
       "      <td>WARNING INDICATION</td>\n",
       "      <td>ABORTED TAKEOFF</td>\n",
       "    </tr>\n",
       "  </tbody>\n",
       "</table>\n",
       "</div>"
      ],
      "text/plain": [
       "                                              report  \\\n",
       "0  MECHANICAL / LANDING GEAR GND FAIL MSG AFTER T...   \n",
       "1  THE NOSE LANDING GEAR DID NOT EXTEND FULLY DUR...   \n",
       "2  THE LEFT SIDE HYDRAULIC SYSTEM FILTER BOWL ASS...   \n",
       "3  AIRCRAFT WAS ON ROLLOUT DURING A NORMAL LANDIN...   \n",
       "4  UPON TAKEOFF ROLL BUT PRIOR TO REACHING 80 KNO...   \n",
       "\n",
       "                    part_failure  occurence_nature_condition  \\\n",
       "0  RT MLG BRAKE DAMAGED           WARNING INDICATION           \n",
       "1      ZONE 700 MALFUNCTIONED     WARNING INDICATION           \n",
       "2    HYD FILTER FAILED            OTHER                        \n",
       "3          LEFT COLLAPSED         OTHER                        \n",
       "4      ZONE 600 CRACKED           WARNING INDICATION           \n",
       "\n",
       "  occurence_precautionary_procedures  \n",
       "0           OTHER                     \n",
       "1           ABORTED APPROACH          \n",
       "2           ABORTED APPROACH          \n",
       "3           OTHER                     \n",
       "4           ABORTED TAKEOFF           "
      ]
     },
     "execution_count": 10,
     "metadata": {},
     "output_type": "execute_result"
    }
   ],
   "source": [
    "# renaming columns\n",
    "df.rename({\"Report\":\"report\", \"Part Failure\": \"part_failure\", \"Occurence Nature condition\": \"occurence_nature_condition\", \n",
    "           \"Occurence Precautionary Procedures\": \"occurence_precautionary_procedures\"}, axis=1, inplace=True)\n",
    "df.head()"
   ]
  },
  {
   "cell_type": "code",
   "execution_count": 11,
   "metadata": {},
   "outputs": [
    {
     "data": {
      "text/plain": [
       "array(['OTHER                   ', 'ABORTED APPROACH        ',\n",
       "       'ABORTED TAKEOFF         ', 'EMER. DESCENT           ',\n",
       "       'O2 MASK DEPLOYED        ', 'UNSCHED LANDING         ',\n",
       "       'NONE                    ', 'RETURN TO BLOCK         ',\n",
       "       'DEACTIVATE SYST/CIRCUITS', 'ENGINE SHUTDOWN         ',\n",
       "       'DUMP FUEL               ', 'ACTIVATE FIRE EXT.      ',\n",
       "       'CABIN DEPRESSURIZATION  ', 'AUTOROTATION            '],\n",
       "      dtype=object)"
      ]
     },
     "execution_count": 11,
     "metadata": {},
     "output_type": "execute_result"
    }
   ],
   "source": [
    "df[\"occurence_precautionary_procedures\"].unique()"
   ]
  },
  {
   "cell_type": "code",
   "execution_count": 12,
   "metadata": {},
   "outputs": [
    {
     "data": {
      "text/plain": [
       "array(['RT MLG BRAKE DAMAGED         ', 'ZONE 700 MALFUNCTIONED   ',\n",
       "       'HYD FILTER FAILED          ', ..., '7501MM FAILED INSP     ',\n",
       "       '10GG FAILED          ', '5QT FAILED          '], dtype=object)"
      ]
     },
     "execution_count": 12,
     "metadata": {},
     "output_type": "execute_result"
    }
   ],
   "source": [
    "df[\"part_failure\"].unique()"
   ]
  },
  {
   "cell_type": "code",
   "execution_count": 13,
   "metadata": {},
   "outputs": [
    {
     "data": {
      "text/plain": [
       "array(['WARNING INDICATION        ', 'OTHER                     ',\n",
       "       'ENGINE FLAMEOUT           ', 'ELECT. POWER LOSS-50 PC   ',\n",
       "       'SMOKE/FUMES/ODORS/SPARKS  ', 'FLUID LOSS                ',\n",
       "       'FALSE WARNING             ', 'NO TEST                   ',\n",
       "       'PARTIAL RPM/PWR LOSS      ', 'VIBRATION/BUFFET          ',\n",
       "       'AFFECT SYSTEMS            ', 'FLT CONT AFFECTED         ',\n",
       "       'MULTIPLE FAILURE          ', 'SIGNIFICANT FAILURE REPORT',\n",
       "       'INADEQUATE Q C            ', 'NO WARNING INDICATION     ',\n",
       "       'OVER TEMP                 ', 'FLT. ATTITUDE INST.       ',\n",
       "       'F.O.D.                    ', 'FLAME/FIRE                ',\n",
       "       'INFLIGHT SEPARATION       ', 'ENGINE STOPPAGE           '],\n",
       "      dtype=object)"
      ]
     },
     "execution_count": 13,
     "metadata": {},
     "output_type": "execute_result"
    }
   ],
   "source": [
    "df[\"occurence_nature_condition\"].unique()"
   ]
  },
  {
   "cell_type": "code",
   "execution_count": 15,
   "metadata": {},
   "outputs": [
    {
     "data": {
      "text/plain": [
       "array(['MECHANICAL / LANDING GEAR GND FAIL MSG AFTER TAKEOFF EMERGENCY DECLARED- BRAKE OVERHEAT CAUTION MESSAGE. ERRATIC RT INBOARD - PEGGED AT MAX TEMP -MEL 3203 AUTH 060159DM-C AML 4764592 ITEM 1.-C/A-TROUBLESHOT RH MLG BRAKE TEMP INDICATION HARNESS IAW SWPM 20-20-03. NO TIME TO FIX. UPDATED KVA. MEL CONTINUES. M PROCEDURES RE-COMPLIED WITH.',\n",
       "       'THE NOSE LANDING GEAR DID NOT EXTEND FULLY DURING APPROACH AS WAS SEEN BY THE INSPECTION MIRROR.  THE PILOT ABORTED THE APPROACH AND IN TROUBLESHOOTING EXTENDED THE LANDING GEAR TO THE FULLY LOCKED POSITION WITH THE MANUAL EXTENSION HAND PUMP.  THE LANDING GEAR HANDLE RETURNED TO NEUTRAL.  THE PILOT STATED THAT USING NORMAL PROCEDURES, THE NOSE GEAR DID NOT EXTEND OR RETRACT AND THE GEAR HANDLE DID NOT RETURN TO NEUTRAL.  THE LANDING WAS UNEVENTFUL.  THE PLANE WAS REPOSITIONED WITH THE LANDING GEAR DOWN TO THE MAIN MAINTENANCE FACILITY.  IN MAINTENANCE THE CONDITION COULD NOT BE REPRODUCED.  THE LANDING GEAR WAS CHECKED FOR PROPER SERVICIGN AND INSPECTED WITH NO DEFECTS NOTED.  THE AICRAFT WAS SENT FOR FLIGHT E',\n",
       "       'THE LEFT SIDE HYDRAULIC SYSTEM FILTER BOWL ASSEMBLY SEPARATED FROM THE UPPER FILTER HOUSING DUE TO A FAILURE IN THE THREAD PORTION OF THE FILTER BOWL.  NO STRESS ON THE BOWL COULD BE DETECTED AND THE REASON FOR THE FAILURE REMIANS UNKNOWN.  FAILURE OF THE BOWL CAUSED A TOTAL LOSS OF HYDRAULIC FLUID INCLUDING THE RESERVE/EMGERGENCY PUMP SUPPLY.  AT THIS TIME NO REASON HAS BEEN FOUND FOR THE LOSS OF FLUID IN THE EMERGENCY EXTENSION SYSTEM.  THE NOSE LANDING GEAR FAILED TO LOCK IN THE DOWN POSITION DUE TO LOSS OF FLUID IN THE PRIMARY AND BACKUP/EMERGENCY SYSTEMS.  INVESTIGATION FOR THE CAUSE OF THE EMERGENCY SYSTEM LOSS IS ON GOING. TOTAL TIME AND TOTAL CYCLES OF THE PART THAT FAILED IS NOT TRACKED.',\n",
       "       ...,\n",
       "       \"FLT#1134, SJU-MCO. ' EMERGENCY LIGHTS TEST FAILED INT AND EXT LOAD FAULT FWD LEFT, R1 DOOR SLIDE REQUIRES REPLACEMENT; REMOVED AND REPLACED R1 DOOR SLIDE PACK ASSY PER AMM 25-62-44. PERFORMED OPS TEST OF EMERG LIGHT SYS PER AMM 33-51-00. TEST OK. A/C OK FOR CONT SERVICE.'\",\n",
       "       \"FLT#17, JAX - FLL. (AIRCRAFT PERFORMED AN AIR TURN BACK TO JAX) ' SHUT DOWN #2 ENGINE IN FLIGHT DUE TO HEAVY SURGING EVEN AT IDLE; C/W TSM 71-00-00 AND FOUND VSV ACT AT FAULT.  VSV ACT REPLACED IAW 75-32-41. ACCOMPLISHED #2 ENG VSV LUVE PER AMM 75-32-42. BSIHPC ACCOMPLISHED. NO FAULTS FOUND. PERFORMED IDLE LEAK CHECKS & HIGH POWER ASSURANCE TEST PER AMM 71-00-00. ALL CHECKS GOOD AT THIS TIME & NO LEAKS.'\",\n",
       "       \"FLT#43, JFK-LGW. (ETOPS) 'DURING AIRCRAFT REFUELING RECEIVED FUEL ACT XFR FAULT ACT TANKS LOADED EVENLY -NOT ACCORDING TO NORMAL DISTRIBUTION ( FUEL QUANTITY PRESELECTOR SYSTEM ); REMOVED AND REPLACED FUEL QUANTITY PRESELECTOR (5QT) IAW AMM 28-42-21. OP'S CHECK IS GOOD. MDDR CLEARED.'\"],\n",
       "      dtype=object)"
      ]
     },
     "execution_count": 15,
     "metadata": {},
     "output_type": "execute_result"
    }
   ],
   "source": [
    "# report has too many unique values and upon closer inspection of the data it will be too difficult to categorize them, \n",
    "# so we will not use it in our model\n",
    "df[\"report\"].unique()"
   ]
  },
  {
   "cell_type": "code",
   "execution_count": null,
   "metadata": {},
   "outputs": [],
   "source": [
    "# all values are in all caps so we can keep it that way"
   ]
  }
 ],
 "metadata": {
  "kernelspec": {
   "display_name": "Python 3",
   "language": "python",
   "name": "python3"
  },
  "language_info": {
   "codemirror_mode": {
    "name": "ipython",
    "version": 3
   },
   "file_extension": ".py",
   "mimetype": "text/x-python",
   "name": "python",
   "nbconvert_exporter": "python",
   "pygments_lexer": "ipython3",
   "version": "3.9.13"
  }
 },
 "nbformat": 4,
 "nbformat_minor": 2
}
